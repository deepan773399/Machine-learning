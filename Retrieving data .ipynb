{
 "cells": [
  {
   "cell_type": "code",
   "execution_count": 1,
   "metadata": {},
   "outputs": [],
   "source": [
    "#CSV-Comma separated values\n",
    "#.dataframe.iloc[:5]->print first five rows\n",
    "#.tsv->pd.read_csv(filepath,sep='\\t')\n",
    "#Space separated file ->pd.read_csv(filepath,delim_whitespace=True)\n",
    "#Dont use first row as column names->pd.read_csv(filepath,heaeder=None)\n",
    "#Specify column names ->data=pd.read_csv(filepath,names=['Name1','Name2'])\n",
    "#custom missing values -> data=pd.read_csv(filepath,ns_values=['Na'])\n",
    "\n",
    "\n",
    "#Json files\n",
    "#Javascript object notation\n",
    "#Json files are very similar in structure to python dictionaries\n",
    "#Reading json files -> pd.read_json(filepath)\n",
    "#dataframe to json -> data.to_json('Out.json')\n",
    "\n",
    "#SQL databases\n",
    "#import sqllite3 as sq3\n",
    "#con=sq3.Connection(path)\n",
    "#query='''SELECT * FROM rock_songs;'''\n",
    "#data=pd.read_sql(query,con)\n",
    "\n",
    "\n",
    "#No sql databases ->NOt only sql\n",
    "#document databases ->MongoDB,couchDB\n",
    "#from pymongo import MongoClient\n",
    "#con=MongoClient()\n",
    "#db=con.database_name\n",
    "#cursor=db.collection_name.find(query)\n",
    "#df=pd.DataFrame(list(cursor))\n",
    "\n",
    "#API\n",
    "#df=pd.read_csv(data_url,header=None)\n",
    "\n",
    "import pandas as pd\n",
    "import sqlite3 as sq3\n",
    "import pandas.io.sql as pds\n",
    "\n",
    "path='data/classic_rock.db'\n",
    "con=sq3.Connection(path)\n",
    "\n",
    "\n",
    "\n",
    "\n"
   ]
  },
  {
   "cell_type": "code",
   "execution_count": 2,
   "metadata": {},
   "outputs": [
    {
     "data": {
      "text/plain": [
       "<sqlite3.Connection at 0x2622e837030>"
      ]
     },
     "execution_count": 2,
     "metadata": {},
     "output_type": "execute_result"
    }
   ],
   "source": [
    "con"
   ]
  },
  {
   "cell_type": "code",
   "execution_count": 4,
   "metadata": {},
   "outputs": [
    {
     "data": {
      "text/html": [
       "<div>\n",
       "<style scoped>\n",
       "    .dataframe tbody tr th:only-of-type {\n",
       "        vertical-align: middle;\n",
       "    }\n",
       "\n",
       "    .dataframe tbody tr th {\n",
       "        vertical-align: top;\n",
       "    }\n",
       "\n",
       "    .dataframe thead th {\n",
       "        text-align: right;\n",
       "    }\n",
       "</style>\n",
       "<table border=\"1\" class=\"dataframe\">\n",
       "  <thead>\n",
       "    <tr style=\"text-align: right;\">\n",
       "      <th></th>\n",
       "      <th>Song</th>\n",
       "      <th>Artist</th>\n",
       "      <th>Release_Year</th>\n",
       "      <th>PlayCount</th>\n",
       "    </tr>\n",
       "  </thead>\n",
       "  <tbody>\n",
       "    <tr>\n",
       "      <td>0</td>\n",
       "      <td>Caught Up in You</td>\n",
       "      <td>.38 Special</td>\n",
       "      <td>1982.0</td>\n",
       "      <td>82</td>\n",
       "    </tr>\n",
       "    <tr>\n",
       "      <td>1</td>\n",
       "      <td>Hold On Loosely</td>\n",
       "      <td>.38 Special</td>\n",
       "      <td>1981.0</td>\n",
       "      <td>85</td>\n",
       "    </tr>\n",
       "    <tr>\n",
       "      <td>2</td>\n",
       "      <td>Rockin' Into the Night</td>\n",
       "      <td>.38 Special</td>\n",
       "      <td>1980.0</td>\n",
       "      <td>18</td>\n",
       "    </tr>\n",
       "    <tr>\n",
       "      <td>3</td>\n",
       "      <td>Art For Arts Sake</td>\n",
       "      <td>10cc</td>\n",
       "      <td>1975.0</td>\n",
       "      <td>1</td>\n",
       "    </tr>\n",
       "    <tr>\n",
       "      <td>4</td>\n",
       "      <td>Kryptonite</td>\n",
       "      <td>3 Doors Down</td>\n",
       "      <td>2000.0</td>\n",
       "      <td>13</td>\n",
       "    </tr>\n",
       "  </tbody>\n",
       "</table>\n",
       "</div>"
      ],
      "text/plain": [
       "                     Song        Artist  Release_Year  PlayCount\n",
       "0        Caught Up in You   .38 Special        1982.0         82\n",
       "1         Hold On Loosely   .38 Special        1981.0         85\n",
       "2  Rockin' Into the Night   .38 Special        1980.0         18\n",
       "3       Art For Arts Sake          10cc        1975.0          1\n",
       "4              Kryptonite  3 Doors Down        2000.0         13"
      ]
     },
     "execution_count": 4,
     "metadata": {},
     "output_type": "execute_result"
    }
   ],
   "source": [
    "query='''SELECT * FROM rock_songs'''\n",
    "observations=pd.read_sql(query,con)\n",
    "observations.head()"
   ]
  },
  {
   "cell_type": "code",
   "execution_count": 5,
   "metadata": {},
   "outputs": [
    {
     "data": {
      "text/html": [
       "<div>\n",
       "<style scoped>\n",
       "    .dataframe tbody tr th:only-of-type {\n",
       "        vertical-align: middle;\n",
       "    }\n",
       "\n",
       "    .dataframe tbody tr th {\n",
       "        vertical-align: top;\n",
       "    }\n",
       "\n",
       "    .dataframe thead th {\n",
       "        text-align: right;\n",
       "    }\n",
       "</style>\n",
       "<table border=\"1\" class=\"dataframe\">\n",
       "  <thead>\n",
       "    <tr style=\"text-align: right;\">\n",
       "      <th></th>\n",
       "      <th>Artist</th>\n",
       "      <th>Release_Year</th>\n",
       "      <th>num_songs</th>\n",
       "      <th>avg_plays</th>\n",
       "    </tr>\n",
       "  </thead>\n",
       "  <tbody>\n",
       "    <tr>\n",
       "      <td>0</td>\n",
       "      <td>The Beatles</td>\n",
       "      <td>1967.0</td>\n",
       "      <td>23</td>\n",
       "      <td>6.565217</td>\n",
       "    </tr>\n",
       "    <tr>\n",
       "      <td>1</td>\n",
       "      <td>Led Zeppelin</td>\n",
       "      <td>1969.0</td>\n",
       "      <td>18</td>\n",
       "      <td>21.000000</td>\n",
       "    </tr>\n",
       "    <tr>\n",
       "      <td>2</td>\n",
       "      <td>The Beatles</td>\n",
       "      <td>1965.0</td>\n",
       "      <td>15</td>\n",
       "      <td>3.800000</td>\n",
       "    </tr>\n",
       "    <tr>\n",
       "      <td>3</td>\n",
       "      <td>The Beatles</td>\n",
       "      <td>1968.0</td>\n",
       "      <td>13</td>\n",
       "      <td>13.000000</td>\n",
       "    </tr>\n",
       "    <tr>\n",
       "      <td>4</td>\n",
       "      <td>The Beatles</td>\n",
       "      <td>1969.0</td>\n",
       "      <td>13</td>\n",
       "      <td>15.000000</td>\n",
       "    </tr>\n",
       "  </tbody>\n",
       "</table>\n",
       "</div>"
      ],
      "text/plain": [
       "         Artist  Release_Year  num_songs  avg_plays\n",
       "0   The Beatles        1967.0         23   6.565217\n",
       "1  Led Zeppelin        1969.0         18  21.000000\n",
       "2   The Beatles        1965.0         15   3.800000\n",
       "3   The Beatles        1968.0         13  13.000000\n",
       "4   The Beatles        1969.0         13  15.000000"
      ]
     },
     "execution_count": 5,
     "metadata": {},
     "output_type": "execute_result"
    }
   ],
   "source": [
    "query='''SELECT Artist,Release_Year,COUNT(*) AS num_songs,AVG(PlayCount) AS avg_plays\n",
    "FROM rock_songs \n",
    "GROUP BY Artist,Release_Year\n",
    "ORDER BY num_songs desc'''\n",
    "\n",
    "observations=pd.read_sql(query,con)\n",
    "observations.head()"
   ]
  },
  {
   "cell_type": "code",
   "execution_count": 6,
   "metadata": {},
   "outputs": [],
   "source": [
    "path1='baseball.db'"
   ]
  },
  {
   "cell_type": "code",
   "execution_count": 7,
   "metadata": {},
   "outputs": [],
   "source": [
    "con1=sq3.Connection(path1)"
   ]
  },
  {
   "cell_type": "code",
   "execution_count": 9,
   "metadata": {},
   "outputs": [
    {
     "name": "stdout",
     "output_type": "stream",
     "text": [
      "      index   playerID  yearID  gameNum        gameID teamID lgID   GP  \\\n",
      "0         0  gomezle01    1933        0  ALS193307060    NYA   AL  1.0   \n",
      "1         1  ferreri01    1933        0  ALS193307060    BOS   AL  1.0   \n",
      "2         2  gehrilo01    1933        0  ALS193307060    NYA   AL  1.0   \n",
      "3         3  gehrich01    1933        0  ALS193307060    DET   AL  1.0   \n",
      "4         4  dykesji01    1933        0  ALS193307060    CHA   AL  1.0   \n",
      "...     ...        ...     ...      ...           ...    ...  ...  ...   \n",
      "5143   5143  seageco01    2016        0  ALS201607120    LAN   NL  1.0   \n",
      "5144   5144  strasst01    2016        0  ALS201607120    WAS   NL  0.0   \n",
      "5145   5145  syndeno01    2016        0  ALS201607120    NYN   NL  0.0   \n",
      "5146   5146  teherju01    2016        0  ALS201607120    ATL   NL  1.0   \n",
      "5147   5147  zobribe01    2016        0  ALS201607120    CHN   NL  1.0   \n",
      "\n",
      "      startingPos  \n",
      "0             1.0  \n",
      "1             2.0  \n",
      "2             3.0  \n",
      "3             4.0  \n",
      "4             5.0  \n",
      "...           ...  \n",
      "5143          NaN  \n",
      "5144          NaN  \n",
      "5145          NaN  \n",
      "5146          NaN  \n",
      "5147          4.0  \n",
      "\n",
      "[5148 rows x 9 columns]\n"
     ]
    }
   ],
   "source": [
    "query='''SELECT * FROM allstarfull'''\n",
    "x=pd.read_sql(query,con1)\n",
    "print(x)"
   ]
  },
  {
   "cell_type": "code",
   "execution_count": null,
   "metadata": {},
   "outputs": [],
   "source": []
  }
 ],
 "metadata": {
  "kernelspec": {
   "display_name": "Python 3",
   "language": "python",
   "name": "python3"
  },
  "language_info": {
   "codemirror_mode": {
    "name": "ipython",
    "version": 3
   },
   "file_extension": ".py",
   "mimetype": "text/x-python",
   "name": "python",
   "nbconvert_exporter": "python",
   "pygments_lexer": "ipython3",
   "version": "3.7.4"
  }
 },
 "nbformat": 4,
 "nbformat_minor": 2
}
